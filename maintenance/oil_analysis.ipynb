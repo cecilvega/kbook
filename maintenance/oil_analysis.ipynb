{
 "cells": [
  {
   "metadata": {},
   "cell_type": "markdown",
   "source": [
    "---\n",
    "title: Análisis de Aceites\n",
    "subtitle: Revisión de completitud\n",
    "author: Chief Reliability\n",
    "date: 2023-01-23\n",
    "---"
   ],
   "id": "abd40da58082b47b"
  },
  {
   "metadata": {
    "tags": [
     "remove-cell"
    ],
    "ExecuteTime": {
     "end_time": "2025-03-19T15:15:26.098460Z",
     "start_time": "2025-03-19T15:15:25.310673Z"
    }
   },
   "cell_type": "code",
   "source": [
    "%load_ext autoreload\n",
    "%autoreload 2\n",
    "%reload_ext autoreload\n",
    "\n",
    "import sys\n",
    "from pathlib import Path\n",
    "\n",
    "\n",
    "import pandas as pd\n",
    "import polars as pl\n",
    "import dagster as dg\n",
    "from kdags.resources import *\n",
    "from io import BytesIO\n",
    "import pdfplumber\n",
    "from datetime import datetime\n",
    "import re\n",
    "import os\n",
    "from kdags.definitions import *\n",
    "from kdags.readr import Readr\n",
    "from kdags.resources.ggplot import *\n",
    "\n",
    "import matplotlib.pyplot as plt\n",
    "import numpy as np\n",
    "\n",
    "context = dg.build_asset_context()"
   ],
   "id": "8e8cefee3793712b",
   "outputs": [
    {
     "name": "stdout",
     "output_type": "stream",
     "text": [
      "The autoreload extension is already loaded. To reload it, use:\n",
      "  %reload_ext autoreload\n"
     ]
    }
   ],
   "execution_count": 5
  },
  {
   "metadata": {
    "ExecuteTime": {
     "end_time": "2025-03-19T15:15:25.304549Z",
     "start_time": "2025-03-19T15:15:23.586300Z"
    }
   },
   "cell_type": "code",
   "source": "df = Readr.Maintenance.read_oil_analysis(context)",
   "id": "c6ca30adf745a916",
   "outputs": [],
   "execution_count": 4
  },
  {
   "metadata": {
    "ExecuteTime": {
     "end_time": "2025-03-19T15:09:10.719799Z",
     "start_time": "2025-03-19T15:09:10.367701Z"
    }
   },
   "cell_type": "code",
   "source": [
    "def plot_oil_analysis_time_series(df, equipment_name=None, component_code=None):\n",
    "\n",
    "    # Ensure sample_date is in datetime format\n",
    "    df[\"sample_date\"] = pd.to_datetime(df[\"sample_date\"])\n",
    "\n",
    "    # If no equipment specified, select the first one in the data\n",
    "    if equipment_name is None:\n",
    "        equipment_name = df[\"equipment_name\"].unique()[0]\n",
    "\n",
    "    # Filter data for the selected equipment\n",
    "    equip_data = df[df[\"equipment_name\"] == equipment_name]\n",
    "\n",
    "    if equip_data.empty:\n",
    "        raise ValueError(f\"No data found for equipment {equipment_name}\")\n",
    "\n",
    "    # If no component specified, select the one with most samples\n",
    "    if component_code is None:\n",
    "        component_counts = equip_data[\"component_code\"].value_counts()\n",
    "        component_code = component_counts.index[0]\n",
    "\n",
    "    # Filter data for the selected component\n",
    "    component_data = equip_data[equip_data[\"component_code\"] == component_code]\n",
    "\n",
    "    if component_data.empty:\n",
    "        raise ValueError(\n",
    "            f\"No data found for component {component_code} in equipment {equipment_name}\"\n",
    "        )\n",
    "\n",
    "    # Sort by date to ensure proper time series\n",
    "    component_data = component_data.sort_values(\"sample_date\")\n",
    "\n",
    "    # Select the wear metals to analyze\n",
    "    wear_metals = [\"fe\", \"cu\", \"pb\", \"al\"]\n",
    "    available_metals = [\n",
    "        metal for metal in wear_metals if metal in component_data.columns\n",
    "    ]\n",
    "\n",
    "    # Create the plot data\n",
    "    plot_data = component_data[[\"sample_date\"] + available_metals].copy()\n",
    "\n",
    "    # Create a GGPrism plot\n",
    "    theme = GGPrism()\n",
    "    fig, ax = theme.create_figure(figsize=(12, 7))\n",
    "\n",
    "    # Create the line plot with multiple series using GGPrism's line_plot method\n",
    "    theme.line_plot(\n",
    "        ax,\n",
    "        plot_data,\n",
    "        x=\"sample_date\",\n",
    "        y=available_metals,\n",
    "        marker=\"o\",\n",
    "        markersize=6,\n",
    "        linewidth=2,\n",
    "    )\n",
    "\n",
    "    # Add reference lines for critical thresholds if needed\n",
    "    # These values would typically come from manufacturer specifications\n",
    "    thresholds = {\n",
    "        \"fe\": 100,  # Example threshold for iron (ppm)\n",
    "        \"cu\": 50,  # Example threshold for copper (ppm)\n",
    "    }\n",
    "\n",
    "    for metal, threshold in thresholds.items():\n",
    "        if metal in available_metals:\n",
    "            ax.axhline(\n",
    "                y=threshold,\n",
    "                color=theme.COLORS[available_metals.index(metal)],\n",
    "                linestyle=\"--\",\n",
    "                alpha=0.7,\n",
    "            )\n",
    "\n",
    "    # Add annotations for significant events or samples\n",
    "    # For example, highlight the highest Fe reading\n",
    "    if \"fe\" in available_metals:\n",
    "        max_fe_idx = plot_data[\"fe\"].idxmax()\n",
    "        max_fe_date = plot_data.loc[max_fe_idx, \"sample_date\"]\n",
    "        max_fe_value = plot_data.loc[max_fe_idx, \"fe\"]\n",
    "\n",
    "        ax.annotate(\n",
    "            f\"Max Fe: {max_fe_value}\",\n",
    "            xy=(max_fe_date, max_fe_value),\n",
    "            xytext=(10, 10),\n",
    "            textcoords=\"offset points\",\n",
    "            arrowprops=dict(arrowstyle=\"->\"),\n",
    "            fontsize=9,\n",
    "            color=theme.FIXED_COLORS[\"axis_color\"],\n",
    "        )\n",
    "\n",
    "    # Finalize the plot with proper styling using GGPrism's finalize_plot method\n",
    "    title = f\"Wear Metals Trend for {equipment_name} - {component_code}\"\n",
    "    theme.finalize_plot(\n",
    "        fig,\n",
    "        ax,\n",
    "        title=title,\n",
    "        xlabel=\"Sample Date\",\n",
    "        ylabel=\"Concentration (ppm)\",\n",
    "        legend_title=\"Metal\",\n",
    "    )\n",
    "\n",
    "    return fig, ax"
   ],
   "id": "de27fabf6e170da7",
   "outputs": [],
   "execution_count": 2
  },
  {
   "metadata": {},
   "cell_type": "code",
   "outputs": [],
   "execution_count": null,
   "source": "",
   "id": "4aa61c65d92677bf"
  },
  {
   "metadata": {
    "ExecuteTime": {
     "end_time": "2025-03-19T15:15:52.185515Z",
     "start_time": "2025-03-19T15:15:51.898700Z"
    }
   },
   "cell_type": "code",
   "source": [
    "plot_oil_analysis_time_series(\n",
    "    df.to_pandas(), equipment_name=\"EQUIPMENT_NAME\", component_code=\"COMPONENT_CODE\"\n",
    ")"
   ],
   "id": "8209148bfbc4f3ae",
   "outputs": [
    {
     "ename": "ValueError",
     "evalue": "No data found for equipment EQUIPMENT_NAME",
     "output_type": "error",
     "traceback": [
      "\u001B[31m---------------------------------------------------------------------------\u001B[39m",
      "\u001B[31mValueError\u001B[39m                                Traceback (most recent call last)",
      "\u001B[36mCell\u001B[39m\u001B[36m \u001B[39m\u001B[32mIn[7]\u001B[39m\u001B[32m, line 1\u001B[39m\n\u001B[32m----> \u001B[39m\u001B[32m1\u001B[39m \u001B[43mplot_oil_analysis_time_series\u001B[49m\u001B[43m(\u001B[49m\n\u001B[32m      2\u001B[39m \u001B[43m    \u001B[49m\u001B[43mdf\u001B[49m\u001B[43m.\u001B[49m\u001B[43mto_pandas\u001B[49m\u001B[43m(\u001B[49m\u001B[43m)\u001B[49m\u001B[43m,\u001B[49m\u001B[43m \u001B[49m\u001B[43mequipment_name\u001B[49m\u001B[43m=\u001B[49m\u001B[33;43m\"\u001B[39;49m\u001B[33;43mEQUIPMENT_NAME\u001B[39;49m\u001B[33;43m\"\u001B[39;49m\u001B[43m,\u001B[49m\u001B[43m \u001B[49m\u001B[43mcomponent_code\u001B[49m\u001B[43m=\u001B[49m\u001B[33;43m\"\u001B[39;49m\u001B[33;43mCOMPONENT_CODE\u001B[39;49m\u001B[33;43m\"\u001B[39;49m\n\u001B[32m      3\u001B[39m \u001B[43m)\u001B[49m\n",
      "\u001B[36mCell\u001B[39m\u001B[36m \u001B[39m\u001B[32mIn[2]\u001B[39m\u001B[32m, line 14\u001B[39m, in \u001B[36mplot_oil_analysis_time_series\u001B[39m\u001B[34m(df, equipment_name, component_code)\u001B[39m\n\u001B[32m     11\u001B[39m equip_data = df[df[\u001B[33m\"\u001B[39m\u001B[33mequipment_name\u001B[39m\u001B[33m\"\u001B[39m] == equipment_name]\n\u001B[32m     13\u001B[39m \u001B[38;5;28;01mif\u001B[39;00m equip_data.empty:\n\u001B[32m---> \u001B[39m\u001B[32m14\u001B[39m     \u001B[38;5;28;01mraise\u001B[39;00m \u001B[38;5;167;01mValueError\u001B[39;00m(\u001B[33mf\u001B[39m\u001B[33m\"\u001B[39m\u001B[33mNo data found for equipment \u001B[39m\u001B[38;5;132;01m{\u001B[39;00mequipment_name\u001B[38;5;132;01m}\u001B[39;00m\u001B[33m\"\u001B[39m)\n\u001B[32m     16\u001B[39m \u001B[38;5;66;03m# If no component specified, select the one with most samples\u001B[39;00m\n\u001B[32m     17\u001B[39m \u001B[38;5;28;01mif\u001B[39;00m component_code \u001B[38;5;129;01mis\u001B[39;00m \u001B[38;5;28;01mNone\u001B[39;00m:\n",
      "\u001B[31mValueError\u001B[39m: No data found for equipment EQUIPMENT_NAME"
     ]
    }
   ],
   "execution_count": 7
  },
  {
   "metadata": {
    "ExecuteTime": {
     "end_time": "2025-03-19T14:32:45.693821Z",
     "start_time": "2025-03-19T14:32:45.604214Z"
    }
   },
   "cell_type": "code",
   "source": "df.group_by(\"equipment_name\").head(5).write_csv(\"oil_analysis.csv\")",
   "id": "55f8b9e4342cb11e",
   "outputs": [],
   "execution_count": 11
  },
  {
   "metadata": {
    "ExecuteTime": {
     "end_time": "2025-03-19T13:37:31.401523Z",
     "start_time": "2025-03-19T13:37:31.318049Z"
    }
   },
   "cell_type": "code",
   "source": "df.filter(pl.col(\"\"))",
   "id": "bbdaf87f29a265bb",
   "outputs": [
    {
     "data": {
      "text/plain": [
       "shape: (8_327, 46)\n",
       "┌───────────┬───────────┬───────────┬───────────┬───┬──────────┬───────────┬───────────┬───────────┐\n",
       "│ sample_id ┆ equipment ┆ sample_da ┆ received_ ┆ … ┆ iso_code ┆ component ┆ position_ ┆ is_microf │\n",
       "│ ---       ┆ _name     ┆ te        ┆ date      ┆   ┆ ---      ┆ _code     ┆ code      ┆ iltered   │\n",
       "│ str       ┆ ---       ┆ ---       ┆ ---       ┆   ┆ str      ┆ ---       ┆ ---       ┆ ---       │\n",
       "│           ┆ str       ┆ date      ┆ date      ┆   ┆          ┆ str       ┆ i8        ┆ bool      │\n",
       "╞═══════════╪═══════════╪═══════════╪═══════════╪═══╪══════════╪═══════════╪═══════════╪═══════════╡\n",
       "│ V35574    ┆ TK872     ┆ 2021-07-3 ┆ 2021-07-3 ┆ … ┆ 21/19/13 ┆ MT        ┆ 2         ┆ false     │\n",
       "│           ┆           ┆ 1         ┆ 1         ┆   ┆          ┆           ┆           ┆           │\n",
       "│ V35580    ┆ TK285     ┆ 2021-07-3 ┆ 2021-07-3 ┆ … ┆ 18/17/13 ┆ MT        ┆ 1         ┆ true      │\n",
       "│           ┆           ┆ 1         ┆ 1         ┆   ┆          ┆           ┆           ┆           │\n",
       "│ V35576    ┆ TK872     ┆ 2021-07-3 ┆ 2021-07-3 ┆ … ┆ 18/16/12 ┆ MT        ┆ 2         ┆ true      │\n",
       "│           ┆           ┆ 1         ┆ 1         ┆   ┆          ┆           ┆           ┆           │\n",
       "│ V35581    ┆ TK285     ┆ 2021-07-3 ┆ 2021-07-3 ┆ … ┆ 20/19/13 ┆ MT        ┆ 2         ┆ true      │\n",
       "│           ┆           ┆ 1         ┆ 1         ┆   ┆          ┆           ┆           ┆           │\n",
       "│ V35573    ┆ TK872     ┆ 2021-07-3 ┆ 2021-07-3 ┆ … ┆ 21/18/13 ┆ MT        ┆ 1         ┆ false     │\n",
       "│           ┆           ┆ 1         ┆ 1         ┆   ┆          ┆           ┆           ┆           │\n",
       "│ …         ┆ …         ┆ …         ┆ …         ┆ … ┆ …        ┆ …         ┆ …         ┆ …         │\n",
       "│ 800026394 ┆ TK286     ┆ 2025-03-1 ┆ 2025-03-1 ┆ … ┆ 22/20/17 ┆ MT        ┆ 2         ┆ false     │\n",
       "│           ┆           ┆ 7         ┆ 8         ┆   ┆          ┆           ┆           ┆           │\n",
       "│ 800026397 ┆ TK879     ┆ 2025-03-1 ┆ 2025-03-1 ┆ … ┆ 25/22/17 ┆ MT        ┆ 2         ┆ false     │\n",
       "│           ┆           ┆ 7         ┆ 8         ┆   ┆          ┆           ┆           ┆           │\n",
       "│ 800026395 ┆ TK286     ┆ 2025-03-1 ┆ 2025-03-1 ┆ … ┆ 19/17/14 ┆ MT        ┆ 1         ┆ true      │\n",
       "│           ┆           ┆ 7         ┆ 8         ┆   ┆          ┆           ┆           ┆           │\n",
       "│ 800026393 ┆ TK286     ┆ 2025-03-1 ┆ 2025-03-1 ┆ … ┆ 23/21/16 ┆ MT        ┆ 1         ┆ false     │\n",
       "│           ┆           ┆ 7         ┆ 8         ┆   ┆          ┆           ┆           ┆           │\n",
       "│ 800026396 ┆ TK286     ┆ 2025-03-1 ┆ 2025-03-1 ┆ … ┆ 21/18/14 ┆ MT        ┆ 2         ┆ true      │\n",
       "│           ┆           ┆ 7         ┆ 8         ┆   ┆          ┆           ┆           ┆           │\n",
       "└───────────┴───────────┴───────────┴───────────┴───┴──────────┴───────────┴───────────┴───────────┘"
      ],
      "text/html": [
       "<div><style>\n",
       ".dataframe > thead > tr,\n",
       ".dataframe > tbody > tr {\n",
       "  text-align: right;\n",
       "  white-space: pre-wrap;\n",
       "}\n",
       "</style>\n",
       "<small>shape: (8_327, 46)</small><table border=\"1\" class=\"dataframe\"><thead><tr><th>sample_id</th><th>equipment_name</th><th>sample_date</th><th>received_date</th><th>analysis_date</th><th>pm_type</th><th>equipment_hours</th><th>fe</th><th>cr</th><th>pb</th><th>cu</th><th>sn</th><th>al</th><th>ni</th><th>ag</th><th>si</th><th>b</th><th>na</th><th>mg</th><th>ca</th><th>ba</th><th>p</th><th>zn</th><th>mo</th><th>ti</th><th>v</th><th>k</th><th>oxidation</th><th>nitration</th><th>sulfation</th><th>fuel</th><th>water</th><th>coolant</th><th>soot</th><th>viscosity_40c</th><th>viscosity_100c</th><th>tan</th><th>tbn</th><th>pq</th><th>particles_gt_4</th><th>particles_gt_6</th><th>particles_gt_14</th><th>iso_code</th><th>component_code</th><th>position_code</th><th>is_microfiltered</th></tr><tr><td>str</td><td>str</td><td>date</td><td>date</td><td>date</td><td>str</td><td>str</td><td>str</td><td>str</td><td>str</td><td>str</td><td>str</td><td>str</td><td>str</td><td>str</td><td>str</td><td>str</td><td>str</td><td>str</td><td>str</td><td>str</td><td>str</td><td>str</td><td>str</td><td>str</td><td>str</td><td>str</td><td>str</td><td>str</td><td>str</td><td>str</td><td>str</td><td>str</td><td>str</td><td>str</td><td>str</td><td>str</td><td>str</td><td>str</td><td>str</td><td>str</td><td>str</td><td>str</td><td>str</td><td>i8</td><td>bool</td></tr></thead><tbody><tr><td>&quot;V35574&quot;</td><td>&quot;TK872&quot;</td><td>2021-07-31</td><td>2021-07-31</td><td>2021-08-01</td><td>&quot;112D&quot;</td><td>&quot;59546&quot;</td><td>&quot;11&quot;</td><td>&quot;0&quot;</td><td>&quot;0&quot;</td><td>&quot;0&quot;</td><td>&quot;0&quot;</td><td>&quot;0&quot;</td><td>&quot;0&quot;</td><td>&quot;0&quot;</td><td>&quot;9&quot;</td><td>&quot;0&quot;</td><td>&quot;0&quot;</td><td>&quot;0&quot;</td><td>&quot;1&quot;</td><td>&quot;0&quot;</td><td>&quot;386&quot;</td><td>&quot;2&quot;</td><td>&quot;0&quot;</td><td>&quot;0&quot;</td><td>&quot;0&quot;</td><td>&quot;0&quot;</td><td>null</td><td>null</td><td>null</td><td>null</td><td>&quot;0&quot;</td><td>null</td><td>null</td><td>&quot;710.74&quot;</td><td>null</td><td>&quot;0.92&quot;</td><td>null</td><td>&quot;8&quot;</td><td>&quot;17631&quot;</td><td>&quot;2873&quot;</td><td>&quot;67&quot;</td><td>&quot;21/19/13&quot;</td><td>&quot;MT&quot;</td><td>2</td><td>false</td></tr><tr><td>&quot;V35580&quot;</td><td>&quot;TK285&quot;</td><td>2021-07-31</td><td>2021-07-31</td><td>2021-08-01</td><td>&quot;112D&quot;</td><td>&quot;3463&quot;</td><td>&quot;6&quot;</td><td>&quot;0&quot;</td><td>&quot;0&quot;</td><td>&quot;0&quot;</td><td>&quot;0&quot;</td><td>&quot;0&quot;</td><td>&quot;0&quot;</td><td>&quot;0&quot;</td><td>&quot;11&quot;</td><td>&quot;0&quot;</td><td>&quot;1&quot;</td><td>&quot;1&quot;</td><td>&quot;4&quot;</td><td>&quot;0&quot;</td><td>&quot;319&quot;</td><td>&quot;1&quot;</td><td>&quot;0&quot;</td><td>&quot;0&quot;</td><td>&quot;0&quot;</td><td>&quot;0&quot;</td><td>null</td><td>null</td><td>null</td><td>null</td><td>&quot;0&quot;</td><td>null</td><td>null</td><td>&quot;723.22&quot;</td><td>null</td><td>&quot;0.9&quot;</td><td>null</td><td>&quot;5&quot;</td><td>&quot;1607&quot;</td><td>&quot;834&quot;</td><td>&quot;40&quot;</td><td>&quot;18/17/13&quot;</td><td>&quot;MT&quot;</td><td>1</td><td>true</td></tr><tr><td>&quot;V35576&quot;</td><td>&quot;TK872&quot;</td><td>2021-07-31</td><td>2021-07-31</td><td>2021-08-01</td><td>&quot;112D&quot;</td><td>&quot;59546&quot;</td><td>&quot;3&quot;</td><td>&quot;0&quot;</td><td>&quot;0&quot;</td><td>&quot;0&quot;</td><td>&quot;0&quot;</td><td>&quot;0&quot;</td><td>&quot;0&quot;</td><td>&quot;0&quot;</td><td>&quot;4&quot;</td><td>&quot;0&quot;</td><td>&quot;0&quot;</td><td>&quot;0&quot;</td><td>&quot;2&quot;</td><td>&quot;0&quot;</td><td>&quot;364&quot;</td><td>&quot;0&quot;</td><td>&quot;0&quot;</td><td>&quot;0&quot;</td><td>&quot;0&quot;</td><td>&quot;0&quot;</td><td>null</td><td>null</td><td>null</td><td>null</td><td>&quot;0&quot;</td><td>null</td><td>null</td><td>&quot;723.13&quot;</td><td>null</td><td>&quot;0.9&quot;</td><td>null</td><td>&quot;5&quot;</td><td>&quot;2024&quot;</td><td>&quot;518&quot;</td><td>&quot;27&quot;</td><td>&quot;18/16/12&quot;</td><td>&quot;MT&quot;</td><td>2</td><td>true</td></tr><tr><td>&quot;V35581&quot;</td><td>&quot;TK285&quot;</td><td>2021-07-31</td><td>2021-07-31</td><td>2021-08-01</td><td>&quot;112D&quot;</td><td>&quot;3463&quot;</td><td>&quot;4&quot;</td><td>&quot;0&quot;</td><td>&quot;0&quot;</td><td>&quot;0&quot;</td><td>&quot;0&quot;</td><td>&quot;0&quot;</td><td>&quot;0&quot;</td><td>&quot;0&quot;</td><td>&quot;12&quot;</td><td>&quot;0&quot;</td><td>&quot;2&quot;</td><td>&quot;0&quot;</td><td>&quot;4&quot;</td><td>&quot;0&quot;</td><td>&quot;339&quot;</td><td>&quot;0&quot;</td><td>&quot;0&quot;</td><td>&quot;0&quot;</td><td>&quot;0&quot;</td><td>&quot;0&quot;</td><td>null</td><td>null</td><td>null</td><td>null</td><td>&quot;0&quot;</td><td>null</td><td>null</td><td>&quot;727.28&quot;</td><td>null</td><td>&quot;0.9&quot;</td><td>null</td><td>&quot;5&quot;</td><td>&quot;6025&quot;</td><td>&quot;3272&quot;</td><td>&quot;44&quot;</td><td>&quot;20/19/13&quot;</td><td>&quot;MT&quot;</td><td>2</td><td>true</td></tr><tr><td>&quot;V35573&quot;</td><td>&quot;TK872&quot;</td><td>2021-07-31</td><td>2021-07-31</td><td>2021-08-01</td><td>&quot;112D&quot;</td><td>&quot;59546&quot;</td><td>&quot;7&quot;</td><td>&quot;0&quot;</td><td>&quot;0&quot;</td><td>&quot;1&quot;</td><td>&quot;0&quot;</td><td>&quot;0&quot;</td><td>&quot;0&quot;</td><td>&quot;0&quot;</td><td>&quot;8&quot;</td><td>&quot;0&quot;</td><td>&quot;0&quot;</td><td>&quot;0&quot;</td><td>&quot;5&quot;</td><td>&quot;0&quot;</td><td>&quot;346&quot;</td><td>&quot;0&quot;</td><td>&quot;0&quot;</td><td>&quot;0&quot;</td><td>&quot;0&quot;</td><td>&quot;0&quot;</td><td>null</td><td>null</td><td>null</td><td>null</td><td>&quot;0&quot;</td><td>null</td><td>null</td><td>&quot;721.25&quot;</td><td>null</td><td>&quot;0.91&quot;</td><td>null</td><td>&quot;6&quot;</td><td>&quot;14283&quot;</td><td>&quot;2037&quot;</td><td>&quot;40&quot;</td><td>&quot;21/18/13&quot;</td><td>&quot;MT&quot;</td><td>1</td><td>false</td></tr><tr><td>&hellip;</td><td>&hellip;</td><td>&hellip;</td><td>&hellip;</td><td>&hellip;</td><td>&hellip;</td><td>&hellip;</td><td>&hellip;</td><td>&hellip;</td><td>&hellip;</td><td>&hellip;</td><td>&hellip;</td><td>&hellip;</td><td>&hellip;</td><td>&hellip;</td><td>&hellip;</td><td>&hellip;</td><td>&hellip;</td><td>&hellip;</td><td>&hellip;</td><td>&hellip;</td><td>&hellip;</td><td>&hellip;</td><td>&hellip;</td><td>&hellip;</td><td>&hellip;</td><td>&hellip;</td><td>&hellip;</td><td>&hellip;</td><td>&hellip;</td><td>&hellip;</td><td>&hellip;</td><td>&hellip;</td><td>&hellip;</td><td>&hellip;</td><td>&hellip;</td><td>&hellip;</td><td>&hellip;</td><td>&hellip;</td><td>&hellip;</td><td>&hellip;</td><td>&hellip;</td><td>&hellip;</td><td>&hellip;</td><td>&hellip;</td><td>&hellip;</td></tr><tr><td>&quot;800026394&quot;</td><td>&quot;TK286&quot;</td><td>2025-03-17</td><td>2025-03-18</td><td>2025-03-18</td><td>&quot;28D&quot;</td><td>&quot;22564&quot;</td><td>&quot;8&quot;</td><td>&quot;0&quot;</td><td>&quot;0&quot;</td><td>&quot;0&quot;</td><td>&quot;0&quot;</td><td>&quot;0&quot;</td><td>&quot;0&quot;</td><td>&quot;0&quot;</td><td>&quot;9&quot;</td><td>&quot;3&quot;</td><td>&quot;0&quot;</td><td>&quot;0&quot;</td><td>&quot;6&quot;</td><td>&quot;0&quot;</td><td>&quot;280&quot;</td><td>&quot;1&quot;</td><td>&quot;0&quot;</td><td>&quot;0&quot;</td><td>&quot;0&quot;</td><td>&quot;0&quot;</td><td>null</td><td>null</td><td>null</td><td>null</td><td>&quot;0&quot;</td><td>null</td><td>null</td><td>&quot;724.3&quot;</td><td>null</td><td>&quot;0.82&quot;</td><td>null</td><td>&quot;14&quot;</td><td>&quot;35856.03&quot;</td><td>&quot;7265.45&quot;</td><td>&quot;650.26&quot;</td><td>&quot;22/20/17&quot;</td><td>&quot;MT&quot;</td><td>2</td><td>false</td></tr><tr><td>&quot;800026397&quot;</td><td>&quot;TK879&quot;</td><td>2025-03-17</td><td>2025-03-18</td><td>2025-03-18</td><td>null</td><td>null</td><td>&quot;88&quot;</td><td>&quot;0&quot;</td><td>&quot;0&quot;</td><td>&quot;1&quot;</td><td>&quot;0&quot;</td><td>&quot;0&quot;</td><td>&quot;0&quot;</td><td>&quot;0&quot;</td><td>&quot;19&quot;</td><td>&quot;12&quot;</td><td>&quot;0&quot;</td><td>&quot;0&quot;</td><td>&quot;7&quot;</td><td>&quot;0&quot;</td><td>&quot;312&quot;</td><td>&quot;5&quot;</td><td>&quot;0&quot;</td><td>&quot;0&quot;</td><td>&quot;0&quot;</td><td>&quot;0&quot;</td><td>null</td><td>null</td><td>null</td><td>null</td><td>&quot;0&quot;</td><td>null</td><td>null</td><td>&quot;639.9&quot;</td><td>null</td><td>&quot;0.92&quot;</td><td>null</td><td>&quot;70&quot;</td><td>&quot;215548.02&quot;</td><td>&quot;37617.62&quot;</td><td>&quot;875.6&quot;</td><td>&quot;25/22/17&quot;</td><td>&quot;MT&quot;</td><td>2</td><td>false</td></tr><tr><td>&quot;800026395&quot;</td><td>&quot;TK286&quot;</td><td>2025-03-17</td><td>2025-03-18</td><td>2025-03-18</td><td>&quot;28D&quot;</td><td>&quot;22564&quot;</td><td>&quot;8&quot;</td><td>&quot;0&quot;</td><td>&quot;0&quot;</td><td>&quot;0&quot;</td><td>&quot;0&quot;</td><td>&quot;0&quot;</td><td>&quot;0&quot;</td><td>&quot;0&quot;</td><td>&quot;9&quot;</td><td>&quot;3&quot;</td><td>&quot;0&quot;</td><td>&quot;0&quot;</td><td>&quot;7&quot;</td><td>&quot;0&quot;</td><td>&quot;328&quot;</td><td>&quot;3&quot;</td><td>&quot;0&quot;</td><td>&quot;0&quot;</td><td>&quot;0&quot;</td><td>&quot;0&quot;</td><td>null</td><td>null</td><td>null</td><td>null</td><td>&quot;0&quot;</td><td>null</td><td>null</td><td>&quot;711.5&quot;</td><td>null</td><td>&quot;0.82&quot;</td><td>null</td><td>&quot;10&quot;</td><td>&quot;3352.79&quot;</td><td>&quot;1123.79&quot;</td><td>&quot;83.49&quot;</td><td>&quot;19/17/14&quot;</td><td>&quot;MT&quot;</td><td>1</td><td>true</td></tr><tr><td>&quot;800026393&quot;</td><td>&quot;TK286&quot;</td><td>2025-03-17</td><td>2025-03-18</td><td>2025-03-18</td><td>&quot;28D&quot;</td><td>&quot;22564&quot;</td><td>&quot;11&quot;</td><td>&quot;0&quot;</td><td>&quot;0&quot;</td><td>&quot;0&quot;</td><td>&quot;0&quot;</td><td>&quot;0&quot;</td><td>&quot;0&quot;</td><td>&quot;0&quot;</td><td>&quot;8&quot;</td><td>&quot;2&quot;</td><td>&quot;0&quot;</td><td>&quot;0&quot;</td><td>&quot;5&quot;</td><td>&quot;0&quot;</td><td>&quot;332&quot;</td><td>&quot;1&quot;</td><td>&quot;0&quot;</td><td>&quot;0&quot;</td><td>&quot;0&quot;</td><td>&quot;0&quot;</td><td>null</td><td>null</td><td>null</td><td>null</td><td>&quot;0&quot;</td><td>null</td><td>null</td><td>&quot;730.4&quot;</td><td>null</td><td>&quot;0.82&quot;</td><td>null</td><td>&quot;16&quot;</td><td>&quot;49941.65&quot;</td><td>&quot;10759.22&quot;</td><td>&quot;497.37&quot;</td><td>&quot;23/21/16&quot;</td><td>&quot;MT&quot;</td><td>1</td><td>false</td></tr><tr><td>&quot;800026396&quot;</td><td>&quot;TK286&quot;</td><td>2025-03-17</td><td>2025-03-18</td><td>2025-03-18</td><td>&quot;28D&quot;</td><td>&quot;22564&quot;</td><td>&quot;6&quot;</td><td>&quot;0&quot;</td><td>&quot;0&quot;</td><td>&quot;0&quot;</td><td>&quot;0&quot;</td><td>&quot;0&quot;</td><td>&quot;0&quot;</td><td>&quot;0&quot;</td><td>&quot;6&quot;</td><td>&quot;3&quot;</td><td>&quot;0&quot;</td><td>&quot;0&quot;</td><td>&quot;5&quot;</td><td>&quot;0&quot;</td><td>&quot;323&quot;</td><td>&quot;2&quot;</td><td>&quot;0&quot;</td><td>&quot;0&quot;</td><td>&quot;0&quot;</td><td>&quot;0&quot;</td><td>null</td><td>null</td><td>null</td><td>null</td><td>&quot;0&quot;</td><td>null</td><td>null</td><td>&quot;713.3&quot;</td><td>null</td><td>&quot;0.82&quot;</td><td>null</td><td>&quot;6&quot;</td><td>&quot;15483.52&quot;</td><td>&quot;2352.66&quot;</td><td>&quot;130.72&quot;</td><td>&quot;21/18/14&quot;</td><td>&quot;MT&quot;</td><td>2</td><td>true</td></tr></tbody></table></div>"
      ]
     },
     "execution_count": 3,
     "metadata": {},
     "output_type": "execute_result"
    }
   ],
   "execution_count": 3
  },
  {
   "metadata": {
    "ExecuteTime": {
     "end_time": "2025-03-19T00:25:10.314506Z",
     "start_time": "2025-03-19T00:25:10.221581Z"
    }
   },
   "cell_type": "code",
   "source": "df",
   "id": "ad5a398698f131b6",
   "outputs": [
    {
     "data": {
      "text/plain": [
       "shape: (8_327, 46)\n",
       "┌───────────┬───────────┬───────────┬───────────┬───┬──────────┬───────────┬───────────┬───────────┐\n",
       "│ sample_id ┆ equipment ┆ sample_da ┆ received_ ┆ … ┆ iso_code ┆ component ┆ position_ ┆ is_microf │\n",
       "│ ---       ┆ _name     ┆ te        ┆ date      ┆   ┆ ---      ┆ _code     ┆ code      ┆ iltered   │\n",
       "│ str       ┆ ---       ┆ ---       ┆ ---       ┆   ┆ str      ┆ ---       ┆ ---       ┆ ---       │\n",
       "│           ┆ str       ┆ date      ┆ date      ┆   ┆          ┆ str       ┆ i8        ┆ bool      │\n",
       "╞═══════════╪═══════════╪═══════════╪═══════════╪═══╪══════════╪═══════════╪═══════════╪═══════════╡\n",
       "│ V35574    ┆ TK872     ┆ 2021-07-3 ┆ 2021-07-3 ┆ … ┆ 21/19/13 ┆ MT        ┆ 2         ┆ false     │\n",
       "│           ┆           ┆ 1         ┆ 1         ┆   ┆          ┆           ┆           ┆           │\n",
       "│ V35580    ┆ TK285     ┆ 2021-07-3 ┆ 2021-07-3 ┆ … ┆ 18/17/13 ┆ MT        ┆ 1         ┆ true      │\n",
       "│           ┆           ┆ 1         ┆ 1         ┆   ┆          ┆           ┆           ┆           │\n",
       "│ V35576    ┆ TK872     ┆ 2021-07-3 ┆ 2021-07-3 ┆ … ┆ 18/16/12 ┆ MT        ┆ 2         ┆ true      │\n",
       "│           ┆           ┆ 1         ┆ 1         ┆   ┆          ┆           ┆           ┆           │\n",
       "│ V35581    ┆ TK285     ┆ 2021-07-3 ┆ 2021-07-3 ┆ … ┆ 20/19/13 ┆ MT        ┆ 2         ┆ true      │\n",
       "│           ┆           ┆ 1         ┆ 1         ┆   ┆          ┆           ┆           ┆           │\n",
       "│ V35573    ┆ TK872     ┆ 2021-07-3 ┆ 2021-07-3 ┆ … ┆ 21/18/13 ┆ MT        ┆ 1         ┆ false     │\n",
       "│           ┆           ┆ 1         ┆ 1         ┆   ┆          ┆           ┆           ┆           │\n",
       "│ …         ┆ …         ┆ …         ┆ …         ┆ … ┆ …        ┆ …         ┆ …         ┆ …         │\n",
       "│ 800026394 ┆ TK286     ┆ 2025-03-1 ┆ 2025-03-1 ┆ … ┆ 22/20/17 ┆ MT        ┆ 2         ┆ false     │\n",
       "│           ┆           ┆ 7         ┆ 8         ┆   ┆          ┆           ┆           ┆           │\n",
       "│ 800026397 ┆ TK879     ┆ 2025-03-1 ┆ 2025-03-1 ┆ … ┆ 25/22/17 ┆ MT        ┆ 2         ┆ false     │\n",
       "│           ┆           ┆ 7         ┆ 8         ┆   ┆          ┆           ┆           ┆           │\n",
       "│ 800026395 ┆ TK286     ┆ 2025-03-1 ┆ 2025-03-1 ┆ … ┆ 19/17/14 ┆ MT        ┆ 1         ┆ true      │\n",
       "│           ┆           ┆ 7         ┆ 8         ┆   ┆          ┆           ┆           ┆           │\n",
       "│ 800026393 ┆ TK286     ┆ 2025-03-1 ┆ 2025-03-1 ┆ … ┆ 23/21/16 ┆ MT        ┆ 1         ┆ false     │\n",
       "│           ┆           ┆ 7         ┆ 8         ┆   ┆          ┆           ┆           ┆           │\n",
       "│ 800026396 ┆ TK286     ┆ 2025-03-1 ┆ 2025-03-1 ┆ … ┆ 21/18/14 ┆ MT        ┆ 2         ┆ true      │\n",
       "│           ┆           ┆ 7         ┆ 8         ┆   ┆          ┆           ┆           ┆           │\n",
       "└───────────┴───────────┴───────────┴───────────┴───┴──────────┴───────────┴───────────┴───────────┘"
      ],
      "text/html": [
       "<div><style>\n",
       ".dataframe > thead > tr,\n",
       ".dataframe > tbody > tr {\n",
       "  text-align: right;\n",
       "  white-space: pre-wrap;\n",
       "}\n",
       "</style>\n",
       "<small>shape: (8_327, 46)</small><table border=\"1\" class=\"dataframe\"><thead><tr><th>sample_id</th><th>equipment_name</th><th>sample_date</th><th>received_date</th><th>analysis_date</th><th>pm_type</th><th>equipment_hours</th><th>fe</th><th>cr</th><th>pb</th><th>cu</th><th>sn</th><th>al</th><th>ni</th><th>ag</th><th>si</th><th>b</th><th>na</th><th>mg</th><th>ca</th><th>ba</th><th>p</th><th>zn</th><th>mo</th><th>ti</th><th>v</th><th>k</th><th>oxidation</th><th>nitration</th><th>sulfation</th><th>fuel</th><th>water</th><th>coolant</th><th>soot</th><th>viscosity_40c</th><th>viscosity_100c</th><th>tan</th><th>tbn</th><th>pq</th><th>particles_gt_4</th><th>particles_gt_6</th><th>particles_gt_14</th><th>iso_code</th><th>component_code</th><th>position_code</th><th>is_microfiltered</th></tr><tr><td>str</td><td>str</td><td>date</td><td>date</td><td>date</td><td>str</td><td>str</td><td>str</td><td>str</td><td>str</td><td>str</td><td>str</td><td>str</td><td>str</td><td>str</td><td>str</td><td>str</td><td>str</td><td>str</td><td>str</td><td>str</td><td>str</td><td>str</td><td>str</td><td>str</td><td>str</td><td>str</td><td>str</td><td>str</td><td>str</td><td>str</td><td>str</td><td>str</td><td>str</td><td>str</td><td>str</td><td>str</td><td>str</td><td>str</td><td>str</td><td>str</td><td>str</td><td>str</td><td>str</td><td>i8</td><td>bool</td></tr></thead><tbody><tr><td>&quot;V35574&quot;</td><td>&quot;TK872&quot;</td><td>2021-07-31</td><td>2021-07-31</td><td>2021-08-01</td><td>&quot;112D&quot;</td><td>&quot;59546&quot;</td><td>&quot;11&quot;</td><td>&quot;0&quot;</td><td>&quot;0&quot;</td><td>&quot;0&quot;</td><td>&quot;0&quot;</td><td>&quot;0&quot;</td><td>&quot;0&quot;</td><td>&quot;0&quot;</td><td>&quot;9&quot;</td><td>&quot;0&quot;</td><td>&quot;0&quot;</td><td>&quot;0&quot;</td><td>&quot;1&quot;</td><td>&quot;0&quot;</td><td>&quot;386&quot;</td><td>&quot;2&quot;</td><td>&quot;0&quot;</td><td>&quot;0&quot;</td><td>&quot;0&quot;</td><td>&quot;0&quot;</td><td>null</td><td>null</td><td>null</td><td>null</td><td>&quot;0&quot;</td><td>null</td><td>null</td><td>&quot;710.74&quot;</td><td>null</td><td>&quot;0.92&quot;</td><td>null</td><td>&quot;8&quot;</td><td>&quot;17631&quot;</td><td>&quot;2873&quot;</td><td>&quot;67&quot;</td><td>&quot;21/19/13&quot;</td><td>&quot;MT&quot;</td><td>2</td><td>false</td></tr><tr><td>&quot;V35580&quot;</td><td>&quot;TK285&quot;</td><td>2021-07-31</td><td>2021-07-31</td><td>2021-08-01</td><td>&quot;112D&quot;</td><td>&quot;3463&quot;</td><td>&quot;6&quot;</td><td>&quot;0&quot;</td><td>&quot;0&quot;</td><td>&quot;0&quot;</td><td>&quot;0&quot;</td><td>&quot;0&quot;</td><td>&quot;0&quot;</td><td>&quot;0&quot;</td><td>&quot;11&quot;</td><td>&quot;0&quot;</td><td>&quot;1&quot;</td><td>&quot;1&quot;</td><td>&quot;4&quot;</td><td>&quot;0&quot;</td><td>&quot;319&quot;</td><td>&quot;1&quot;</td><td>&quot;0&quot;</td><td>&quot;0&quot;</td><td>&quot;0&quot;</td><td>&quot;0&quot;</td><td>null</td><td>null</td><td>null</td><td>null</td><td>&quot;0&quot;</td><td>null</td><td>null</td><td>&quot;723.22&quot;</td><td>null</td><td>&quot;0.9&quot;</td><td>null</td><td>&quot;5&quot;</td><td>&quot;1607&quot;</td><td>&quot;834&quot;</td><td>&quot;40&quot;</td><td>&quot;18/17/13&quot;</td><td>&quot;MT&quot;</td><td>1</td><td>true</td></tr><tr><td>&quot;V35576&quot;</td><td>&quot;TK872&quot;</td><td>2021-07-31</td><td>2021-07-31</td><td>2021-08-01</td><td>&quot;112D&quot;</td><td>&quot;59546&quot;</td><td>&quot;3&quot;</td><td>&quot;0&quot;</td><td>&quot;0&quot;</td><td>&quot;0&quot;</td><td>&quot;0&quot;</td><td>&quot;0&quot;</td><td>&quot;0&quot;</td><td>&quot;0&quot;</td><td>&quot;4&quot;</td><td>&quot;0&quot;</td><td>&quot;0&quot;</td><td>&quot;0&quot;</td><td>&quot;2&quot;</td><td>&quot;0&quot;</td><td>&quot;364&quot;</td><td>&quot;0&quot;</td><td>&quot;0&quot;</td><td>&quot;0&quot;</td><td>&quot;0&quot;</td><td>&quot;0&quot;</td><td>null</td><td>null</td><td>null</td><td>null</td><td>&quot;0&quot;</td><td>null</td><td>null</td><td>&quot;723.13&quot;</td><td>null</td><td>&quot;0.9&quot;</td><td>null</td><td>&quot;5&quot;</td><td>&quot;2024&quot;</td><td>&quot;518&quot;</td><td>&quot;27&quot;</td><td>&quot;18/16/12&quot;</td><td>&quot;MT&quot;</td><td>2</td><td>true</td></tr><tr><td>&quot;V35581&quot;</td><td>&quot;TK285&quot;</td><td>2021-07-31</td><td>2021-07-31</td><td>2021-08-01</td><td>&quot;112D&quot;</td><td>&quot;3463&quot;</td><td>&quot;4&quot;</td><td>&quot;0&quot;</td><td>&quot;0&quot;</td><td>&quot;0&quot;</td><td>&quot;0&quot;</td><td>&quot;0&quot;</td><td>&quot;0&quot;</td><td>&quot;0&quot;</td><td>&quot;12&quot;</td><td>&quot;0&quot;</td><td>&quot;2&quot;</td><td>&quot;0&quot;</td><td>&quot;4&quot;</td><td>&quot;0&quot;</td><td>&quot;339&quot;</td><td>&quot;0&quot;</td><td>&quot;0&quot;</td><td>&quot;0&quot;</td><td>&quot;0&quot;</td><td>&quot;0&quot;</td><td>null</td><td>null</td><td>null</td><td>null</td><td>&quot;0&quot;</td><td>null</td><td>null</td><td>&quot;727.28&quot;</td><td>null</td><td>&quot;0.9&quot;</td><td>null</td><td>&quot;5&quot;</td><td>&quot;6025&quot;</td><td>&quot;3272&quot;</td><td>&quot;44&quot;</td><td>&quot;20/19/13&quot;</td><td>&quot;MT&quot;</td><td>2</td><td>true</td></tr><tr><td>&quot;V35573&quot;</td><td>&quot;TK872&quot;</td><td>2021-07-31</td><td>2021-07-31</td><td>2021-08-01</td><td>&quot;112D&quot;</td><td>&quot;59546&quot;</td><td>&quot;7&quot;</td><td>&quot;0&quot;</td><td>&quot;0&quot;</td><td>&quot;1&quot;</td><td>&quot;0&quot;</td><td>&quot;0&quot;</td><td>&quot;0&quot;</td><td>&quot;0&quot;</td><td>&quot;8&quot;</td><td>&quot;0&quot;</td><td>&quot;0&quot;</td><td>&quot;0&quot;</td><td>&quot;5&quot;</td><td>&quot;0&quot;</td><td>&quot;346&quot;</td><td>&quot;0&quot;</td><td>&quot;0&quot;</td><td>&quot;0&quot;</td><td>&quot;0&quot;</td><td>&quot;0&quot;</td><td>null</td><td>null</td><td>null</td><td>null</td><td>&quot;0&quot;</td><td>null</td><td>null</td><td>&quot;721.25&quot;</td><td>null</td><td>&quot;0.91&quot;</td><td>null</td><td>&quot;6&quot;</td><td>&quot;14283&quot;</td><td>&quot;2037&quot;</td><td>&quot;40&quot;</td><td>&quot;21/18/13&quot;</td><td>&quot;MT&quot;</td><td>1</td><td>false</td></tr><tr><td>&hellip;</td><td>&hellip;</td><td>&hellip;</td><td>&hellip;</td><td>&hellip;</td><td>&hellip;</td><td>&hellip;</td><td>&hellip;</td><td>&hellip;</td><td>&hellip;</td><td>&hellip;</td><td>&hellip;</td><td>&hellip;</td><td>&hellip;</td><td>&hellip;</td><td>&hellip;</td><td>&hellip;</td><td>&hellip;</td><td>&hellip;</td><td>&hellip;</td><td>&hellip;</td><td>&hellip;</td><td>&hellip;</td><td>&hellip;</td><td>&hellip;</td><td>&hellip;</td><td>&hellip;</td><td>&hellip;</td><td>&hellip;</td><td>&hellip;</td><td>&hellip;</td><td>&hellip;</td><td>&hellip;</td><td>&hellip;</td><td>&hellip;</td><td>&hellip;</td><td>&hellip;</td><td>&hellip;</td><td>&hellip;</td><td>&hellip;</td><td>&hellip;</td><td>&hellip;</td><td>&hellip;</td><td>&hellip;</td><td>&hellip;</td><td>&hellip;</td></tr><tr><td>&quot;800026394&quot;</td><td>&quot;TK286&quot;</td><td>2025-03-17</td><td>2025-03-18</td><td>2025-03-18</td><td>&quot;28D&quot;</td><td>&quot;22564&quot;</td><td>&quot;8&quot;</td><td>&quot;0&quot;</td><td>&quot;0&quot;</td><td>&quot;0&quot;</td><td>&quot;0&quot;</td><td>&quot;0&quot;</td><td>&quot;0&quot;</td><td>&quot;0&quot;</td><td>&quot;9&quot;</td><td>&quot;3&quot;</td><td>&quot;0&quot;</td><td>&quot;0&quot;</td><td>&quot;6&quot;</td><td>&quot;0&quot;</td><td>&quot;280&quot;</td><td>&quot;1&quot;</td><td>&quot;0&quot;</td><td>&quot;0&quot;</td><td>&quot;0&quot;</td><td>&quot;0&quot;</td><td>null</td><td>null</td><td>null</td><td>null</td><td>&quot;0&quot;</td><td>null</td><td>null</td><td>&quot;724.3&quot;</td><td>null</td><td>&quot;0.82&quot;</td><td>null</td><td>&quot;14&quot;</td><td>&quot;35856.03&quot;</td><td>&quot;7265.45&quot;</td><td>&quot;650.26&quot;</td><td>&quot;22/20/17&quot;</td><td>&quot;MT&quot;</td><td>2</td><td>false</td></tr><tr><td>&quot;800026397&quot;</td><td>&quot;TK879&quot;</td><td>2025-03-17</td><td>2025-03-18</td><td>2025-03-18</td><td>null</td><td>null</td><td>&quot;88&quot;</td><td>&quot;0&quot;</td><td>&quot;0&quot;</td><td>&quot;1&quot;</td><td>&quot;0&quot;</td><td>&quot;0&quot;</td><td>&quot;0&quot;</td><td>&quot;0&quot;</td><td>&quot;19&quot;</td><td>&quot;12&quot;</td><td>&quot;0&quot;</td><td>&quot;0&quot;</td><td>&quot;7&quot;</td><td>&quot;0&quot;</td><td>&quot;312&quot;</td><td>&quot;5&quot;</td><td>&quot;0&quot;</td><td>&quot;0&quot;</td><td>&quot;0&quot;</td><td>&quot;0&quot;</td><td>null</td><td>null</td><td>null</td><td>null</td><td>&quot;0&quot;</td><td>null</td><td>null</td><td>&quot;639.9&quot;</td><td>null</td><td>&quot;0.92&quot;</td><td>null</td><td>&quot;70&quot;</td><td>&quot;215548.02&quot;</td><td>&quot;37617.62&quot;</td><td>&quot;875.6&quot;</td><td>&quot;25/22/17&quot;</td><td>&quot;MT&quot;</td><td>2</td><td>false</td></tr><tr><td>&quot;800026395&quot;</td><td>&quot;TK286&quot;</td><td>2025-03-17</td><td>2025-03-18</td><td>2025-03-18</td><td>&quot;28D&quot;</td><td>&quot;22564&quot;</td><td>&quot;8&quot;</td><td>&quot;0&quot;</td><td>&quot;0&quot;</td><td>&quot;0&quot;</td><td>&quot;0&quot;</td><td>&quot;0&quot;</td><td>&quot;0&quot;</td><td>&quot;0&quot;</td><td>&quot;9&quot;</td><td>&quot;3&quot;</td><td>&quot;0&quot;</td><td>&quot;0&quot;</td><td>&quot;7&quot;</td><td>&quot;0&quot;</td><td>&quot;328&quot;</td><td>&quot;3&quot;</td><td>&quot;0&quot;</td><td>&quot;0&quot;</td><td>&quot;0&quot;</td><td>&quot;0&quot;</td><td>null</td><td>null</td><td>null</td><td>null</td><td>&quot;0&quot;</td><td>null</td><td>null</td><td>&quot;711.5&quot;</td><td>null</td><td>&quot;0.82&quot;</td><td>null</td><td>&quot;10&quot;</td><td>&quot;3352.79&quot;</td><td>&quot;1123.79&quot;</td><td>&quot;83.49&quot;</td><td>&quot;19/17/14&quot;</td><td>&quot;MT&quot;</td><td>1</td><td>true</td></tr><tr><td>&quot;800026393&quot;</td><td>&quot;TK286&quot;</td><td>2025-03-17</td><td>2025-03-18</td><td>2025-03-18</td><td>&quot;28D&quot;</td><td>&quot;22564&quot;</td><td>&quot;11&quot;</td><td>&quot;0&quot;</td><td>&quot;0&quot;</td><td>&quot;0&quot;</td><td>&quot;0&quot;</td><td>&quot;0&quot;</td><td>&quot;0&quot;</td><td>&quot;0&quot;</td><td>&quot;8&quot;</td><td>&quot;2&quot;</td><td>&quot;0&quot;</td><td>&quot;0&quot;</td><td>&quot;5&quot;</td><td>&quot;0&quot;</td><td>&quot;332&quot;</td><td>&quot;1&quot;</td><td>&quot;0&quot;</td><td>&quot;0&quot;</td><td>&quot;0&quot;</td><td>&quot;0&quot;</td><td>null</td><td>null</td><td>null</td><td>null</td><td>&quot;0&quot;</td><td>null</td><td>null</td><td>&quot;730.4&quot;</td><td>null</td><td>&quot;0.82&quot;</td><td>null</td><td>&quot;16&quot;</td><td>&quot;49941.65&quot;</td><td>&quot;10759.22&quot;</td><td>&quot;497.37&quot;</td><td>&quot;23/21/16&quot;</td><td>&quot;MT&quot;</td><td>1</td><td>false</td></tr><tr><td>&quot;800026396&quot;</td><td>&quot;TK286&quot;</td><td>2025-03-17</td><td>2025-03-18</td><td>2025-03-18</td><td>&quot;28D&quot;</td><td>&quot;22564&quot;</td><td>&quot;6&quot;</td><td>&quot;0&quot;</td><td>&quot;0&quot;</td><td>&quot;0&quot;</td><td>&quot;0&quot;</td><td>&quot;0&quot;</td><td>&quot;0&quot;</td><td>&quot;0&quot;</td><td>&quot;6&quot;</td><td>&quot;3&quot;</td><td>&quot;0&quot;</td><td>&quot;0&quot;</td><td>&quot;5&quot;</td><td>&quot;0&quot;</td><td>&quot;323&quot;</td><td>&quot;2&quot;</td><td>&quot;0&quot;</td><td>&quot;0&quot;</td><td>&quot;0&quot;</td><td>&quot;0&quot;</td><td>null</td><td>null</td><td>null</td><td>null</td><td>&quot;0&quot;</td><td>null</td><td>null</td><td>&quot;713.3&quot;</td><td>null</td><td>&quot;0.82&quot;</td><td>null</td><td>&quot;6&quot;</td><td>&quot;15483.52&quot;</td><td>&quot;2352.66&quot;</td><td>&quot;130.72&quot;</td><td>&quot;21/18/14&quot;</td><td>&quot;MT&quot;</td><td>2</td><td>true</td></tr></tbody></table></div>"
      ]
     },
     "execution_count": 4,
     "metadata": {},
     "output_type": "execute_result"
    }
   ],
   "execution_count": 4
  },
  {
   "metadata": {},
   "cell_type": "code",
   "outputs": [],
   "execution_count": null,
   "source": "",
   "id": "82f9eab9b6acdc2c"
  }
 ],
 "metadata": {
  "kernelspec": {
   "display_name": "Python 3",
   "language": "python",
   "name": "python3"
  },
  "language_info": {
   "codemirror_mode": {
    "name": "ipython",
    "version": 2
   },
   "file_extension": ".py",
   "mimetype": "text/x-python",
   "name": "python",
   "nbconvert_exporter": "python",
   "pygments_lexer": "ipython2",
   "version": "2.7.6"
  }
 },
 "nbformat": 4,
 "nbformat_minor": 5
}
